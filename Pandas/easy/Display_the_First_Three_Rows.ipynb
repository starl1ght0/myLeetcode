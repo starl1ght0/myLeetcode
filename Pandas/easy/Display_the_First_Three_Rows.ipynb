''' task №2879 '''

import pandas as pd

def selectFirstRows(employees: pd.DataFrame) -> pd.DataFrame:
    ds = employees.head(3)
    return ds
