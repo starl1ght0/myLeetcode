 ''' task №2881 '''

import pandas as pd

def createBonusColumn(employees: pd.DataFrame) -> pd.DataFrame:
    employees = employees.assign(bonus = employees['salary'] * 2)
    return employees
