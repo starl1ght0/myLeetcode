''' task №2888 '''

import pandas as pd

def concatenateTables(df1: pd.DataFrame, df2: pd.DataFrame) -> pd.DataFrame:
    ds = pd.concat([df1, df2], axis=0) 
    return ds
